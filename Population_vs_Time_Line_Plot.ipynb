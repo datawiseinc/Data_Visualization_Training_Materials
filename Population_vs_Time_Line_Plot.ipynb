{
 "cells": [
  {
   "cell_type": "code",
   "execution_count": 1,
   "metadata": {},
   "outputs": [],
   "source": [
    "import pandas as pd\n",
    "import plotly.graph_objs as go\n",
    "import plotly.offline as pyo\n",
    "import matplotlib.pyplot as plt\n",
    "import seaborn as sns\n",
    "sns.set()"
   ]
  },
  {
   "cell_type": "code",
   "execution_count": 2,
   "metadata": {},
   "outputs": [
    {
     "data": {
      "text/html": [
       "<div>\n",
       "<style scoped>\n",
       "    .dataframe tbody tr th:only-of-type {\n",
       "        vertical-align: middle;\n",
       "    }\n",
       "\n",
       "    .dataframe tbody tr th {\n",
       "        vertical-align: top;\n",
       "    }\n",
       "\n",
       "    .dataframe thead th {\n",
       "        text-align: right;\n",
       "    }\n",
       "</style>\n",
       "<table border=\"1\" class=\"dataframe\">\n",
       "  <thead>\n",
       "    <tr style=\"text-align: right;\">\n",
       "      <th></th>\n",
       "      <th>Name</th>\n",
       "      <th>PopEstimate2010</th>\n",
       "      <th>PopEstimate2011</th>\n",
       "      <th>PopEstimate2012</th>\n",
       "      <th>PopEstimate2013</th>\n",
       "      <th>PopEstimate2014</th>\n",
       "      <th>PopEstimate2015</th>\n",
       "      <th>PopEstimate2016</th>\n",
       "      <th>PopEstimate2017</th>\n",
       "    </tr>\n",
       "  </thead>\n",
       "  <tbody>\n",
       "    <tr>\n",
       "      <td>0</td>\n",
       "      <td>Connecticut</td>\n",
       "      <td>3580171</td>\n",
       "      <td>3591927</td>\n",
       "      <td>3597705</td>\n",
       "      <td>3602470</td>\n",
       "      <td>3600188</td>\n",
       "      <td>3593862</td>\n",
       "      <td>3587685</td>\n",
       "      <td>3588184</td>\n",
       "    </tr>\n",
       "    <tr>\n",
       "      <td>1</td>\n",
       "      <td>Maine</td>\n",
       "      <td>1327568</td>\n",
       "      <td>1327968</td>\n",
       "      <td>1328101</td>\n",
       "      <td>1327975</td>\n",
       "      <td>1328903</td>\n",
       "      <td>1327787</td>\n",
       "      <td>1330232</td>\n",
       "      <td>1335907</td>\n",
       "    </tr>\n",
       "    <tr>\n",
       "      <td>2</td>\n",
       "      <td>Massachusetts</td>\n",
       "      <td>6564943</td>\n",
       "      <td>6612178</td>\n",
       "      <td>6659627</td>\n",
       "      <td>6711138</td>\n",
       "      <td>6757925</td>\n",
       "      <td>6794002</td>\n",
       "      <td>6823721</td>\n",
       "      <td>6859819</td>\n",
       "    </tr>\n",
       "    <tr>\n",
       "      <td>3</td>\n",
       "      <td>New Hampshire</td>\n",
       "      <td>1316700</td>\n",
       "      <td>1318345</td>\n",
       "      <td>1320923</td>\n",
       "      <td>1322622</td>\n",
       "      <td>1328684</td>\n",
       "      <td>1330134</td>\n",
       "      <td>1335015</td>\n",
       "      <td>1342795</td>\n",
       "    </tr>\n",
       "    <tr>\n",
       "      <td>4</td>\n",
       "      <td>Rhode Island</td>\n",
       "      <td>1053169</td>\n",
       "      <td>1052154</td>\n",
       "      <td>1052761</td>\n",
       "      <td>1052784</td>\n",
       "      <td>1054782</td>\n",
       "      <td>1055916</td>\n",
       "      <td>1057566</td>\n",
       "      <td>1059639</td>\n",
       "    </tr>\n",
       "  </tbody>\n",
       "</table>\n",
       "</div>"
      ],
      "text/plain": [
       "            Name  PopEstimate2010  PopEstimate2011  PopEstimate2012  \\\n",
       "0    Connecticut          3580171          3591927          3597705   \n",
       "1          Maine          1327568          1327968          1328101   \n",
       "2  Massachusetts          6564943          6612178          6659627   \n",
       "3  New Hampshire          1316700          1318345          1320923   \n",
       "4   Rhode Island          1053169          1052154          1052761   \n",
       "\n",
       "   PopEstimate2013  PopEstimate2014  PopEstimate2015  PopEstimate2016  \\\n",
       "0          3602470          3600188          3593862          3587685   \n",
       "1          1327975          1328903          1327787          1330232   \n",
       "2          6711138          6757925          6794002          6823721   \n",
       "3          1322622          1328684          1330134          1335015   \n",
       "4          1052784          1054782          1055916          1057566   \n",
       "\n",
       "   PopEstimate2017  \n",
       "0          3588184  \n",
       "1          1335907  \n",
       "2          6859819  \n",
       "3          1342795  \n",
       "4          1059639  "
      ]
     },
     "execution_count": 2,
     "metadata": {},
     "output_type": "execute_result"
    }
   ],
   "source": [
    "df = pd.DataFrame()\n",
    "df = pd.read_csv(r'C:/Users/galipbak/Desktop/Plotly-Dashboards-with-Dash-master/Data/population.csv')  \n",
    "\n",
    "df.head()"
   ]
  },
  {
   "cell_type": "code",
   "execution_count": 3,
   "metadata": {},
   "outputs": [],
   "source": [
    "df.set_index('Name', drop=True, inplace=True)"
   ]
  },
  {
   "cell_type": "code",
   "execution_count": 4,
   "metadata": {},
   "outputs": [],
   "source": [
    "list_cols = [i for i in df.columns if i.startswith('Pop')]"
   ]
  },
  {
   "cell_type": "code",
   "execution_count": 5,
   "metadata": {},
   "outputs": [],
   "source": [
    "y=df.loc['Vermont']"
   ]
  },
  {
   "cell_type": "code",
   "execution_count": 6,
   "metadata": {},
   "outputs": [],
   "source": [
    "data = [go.Scatter(x=list_cols, y=df.loc[index], \n",
    "                   mode='lines + markers',\n",
    "                   line=dict(width=4)\n",
    "                  ) \n",
    "        for index in df.index\n",
    "       ]"
   ]
  },
  {
   "cell_type": "code",
   "execution_count": 7,
   "metadata": {},
   "outputs": [],
   "source": [
    "layout = go.Layout(title='Population change in NewEngland over the years',\n",
    "                   xaxis=dict(title='Years'),\n",
    "                   yaxis=dict(title='Population Size'),\n",
    "                   hovermode='closest'\n",
    "                  )"
   ]
  },
  {
   "cell_type": "code",
   "execution_count": 8,
   "metadata": {},
   "outputs": [],
   "source": [
    "fig = go.Figure(data=data, layout=layout)"
   ]
  },
  {
   "cell_type": "code",
   "execution_count": 9,
   "metadata": {},
   "outputs": [
    {
     "data": {
      "text/plain": [
       "'population_time.html'"
      ]
     },
     "execution_count": 9,
     "metadata": {},
     "output_type": "execute_result"
    }
   ],
   "source": [
    "pyo.plot(fig, filename='population_time.html')"
   ]
  }
 ],
 "metadata": {
  "kernelspec": {
   "display_name": "Python 3",
   "language": "python",
   "name": "python3"
  },
  "language_info": {
   "codemirror_mode": {
    "name": "ipython",
    "version": 3
   },
   "file_extension": ".py",
   "mimetype": "text/x-python",
   "name": "python",
   "nbconvert_exporter": "python",
   "pygments_lexer": "ipython3",
   "version": "3.7.4"
  }
 },
 "nbformat": 4,
 "nbformat_minor": 4
}
