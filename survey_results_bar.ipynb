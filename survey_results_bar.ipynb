{
 "nbformat": 4,
 "nbformat_minor": 2,
 "metadata": {
  "language_info": {
   "name": "python",
   "codemirror_mode": {
    "name": "ipython",
    "version": 3
   },
   "version": "3.7.4-final"
  },
  "orig_nbformat": 2,
  "file_extension": ".py",
  "mimetype": "text/x-python",
  "name": "python",
  "npconvert_exporter": "python",
  "pygments_lexer": "ipython3",
  "version": 3,
  "kernelspec": {
   "name": "python37464bitbasecondaf7b42bf6d0454650b41abaaea1d18348",
   "display_name": "Python 3.7.4 64-bit ('base': conda)"
  }
 },
 "cells": [
  {
   "cell_type": "code",
   "execution_count": 4,
   "metadata": {},
   "outputs": [],
   "source": [
    "import pandas as pd\n",
    "import plotly.graph_objs as go \n",
    "import plotly.offline as pyo \n"
   ]
  },
  {
   "cell_type": "code",
   "execution_count": 14,
   "metadata": {},
   "outputs": [],
   "source": [
    "df = pd.read_csv(r'..\\resources\\Plotly-Dashboards-with-Dash-master\\Data\\mocksurvey.csv', index_col='Unnamed: 0')"
   ]
  },
  {
   "cell_type": "code",
   "execution_count": 15,
   "metadata": {},
   "outputs": [
    {
     "data": {
      "text/html": "<div>\n<style scoped>\n    .dataframe tbody tr th:only-of-type {\n        vertical-align: middle;\n    }\n\n    .dataframe tbody tr th {\n        vertical-align: top;\n    }\n\n    .dataframe thead th {\n        text-align: right;\n    }\n</style>\n<table border=\"1\" class=\"dataframe\">\n  <thead>\n    <tr style=\"text-align: right;\">\n      <th></th>\n      <th>Strongly Agree</th>\n      <th>Somewhat Agree</th>\n      <th>Neutral</th>\n      <th>Somewhat Disagree</th>\n      <th>Strongly Disagree</th>\n    </tr>\n  </thead>\n  <tbody>\n    <tr>\n      <td>Question 1</td>\n      <td>0.45</td>\n      <td>0.25</td>\n      <td>0.10</td>\n      <td>0.12</td>\n      <td>0.08</td>\n    </tr>\n    <tr>\n      <td>Question 2</td>\n      <td>0.12</td>\n      <td>0.07</td>\n      <td>0.48</td>\n      <td>0.18</td>\n      <td>0.15</td>\n    </tr>\n    <tr>\n      <td>Question 3</td>\n      <td>0.05</td>\n      <td>0.22</td>\n      <td>0.19</td>\n      <td>0.23</td>\n      <td>0.31</td>\n    </tr>\n  </tbody>\n</table>\n</div>",
      "text/plain": "            Strongly Agree  Somewhat Agree  Neutral  Somewhat Disagree  \\\nQuestion 1            0.45            0.25     0.10               0.12   \nQuestion 2            0.12            0.07     0.48               0.18   \nQuestion 3            0.05            0.22     0.19               0.23   \n\n            Strongly Disagree  \nQuestion 1               0.08  \nQuestion 2               0.15  \nQuestion 3               0.31  "
     },
     "execution_count": 15,
     "metadata": {},
     "output_type": "execute_result"
    }
   ],
   "source": [
    "df.head()"
   ]
  },
  {
   "cell_type": "code",
   "execution_count": 17,
   "metadata": {},
   "outputs": [],
   "source": [
    "x = df.index\n",
    "y = df.loc['Question 1']"
   ]
  },
  {
   "cell_type": "code",
   "execution_count": 33,
   "metadata": {},
   "outputs": [],
   "source": [
    "data = [go.Bar(x=df.index, y=df[i], name=i) for i in df.columns]"
   ]
  },
  {
   "cell_type": "code",
   "execution_count": 42,
   "metadata": {},
   "outputs": [],
   "source": [
    "layout = go.Layout( title='Survey Results', \n",
    "                    xaxis=dict(title='Questions'),\n",
    "                    yaxis=dict(title='Responses'), \n",
    "                    barmode='stack',\n",
    "                  )"
   ]
  },
  {
   "cell_type": "code",
   "execution_count": 38,
   "metadata": {},
   "outputs": [],
   "source": [
    "fig = go.Figure(data=data, layout=layout)"
   ]
  },
  {
   "cell_type": "code",
   "execution_count": 39,
   "metadata": {},
   "outputs": [
    {
     "data": {
      "text/plain": "'survey_results_stack_bar.html'"
     },
     "execution_count": 39,
     "metadata": {},
     "output_type": "execute_result"
    }
   ],
   "source": [
    "pyo.plot(fig, filename='survey_results_stack_bar.html')"
   ]
  },
  {
   "cell_type": "code",
   "execution_count": 47,
   "metadata": {},
   "outputs": [
    {
     "data": {
      "text/plain": "'survey_results_horizontal_stack_bar.html'"
     },
     "execution_count": 47,
     "metadata": {},
     "output_type": "execute_result"
    }
   ],
   "source": [
    "data = [go.Bar(y=df.index, x=df[i], name=i, orientation='h') for i in df.columns]\n",
    "layout = go.Layout( title='Survey Results', \n",
    "                    xaxis=dict(title='Questions'),\n",
    "                    yaxis=dict(title='Responses'), \n",
    "                    barmode='stack'\n",
    "                  )\n",
    "fig = go.Figure(data=data, layout=layout)\n",
    "pyo.plot(fig, filename='survey_results_horizontal_stack_bar.html')"
   ]
  },
  {
   "cell_type": "code",
   "execution_count": null,
   "metadata": {},
   "outputs": [],
   "source": []
  }
 ]
}